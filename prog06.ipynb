{
  "nbformat": 4,
  "nbformat_minor": 0,
  "metadata": {
    "colab": {
      "name": "prog06.ipynb",
      "provenance": []
    },
    "kernelspec": {
      "name": "python3",
      "display_name": "Python 3"
    },
    "language_info": {
      "name": "python"
    }
  },
  "cells": [
    {
      "cell_type": "code",
      "metadata": {
        "colab": {
          "base_uri": "https://localhost:8080/"
        },
        "id": "w0TvZ0LTDjLY",
        "outputId": "e5bd7daf-56d3-4cbc-cb00-6b18d0d4b6bc"
      },
      "source": [
        "if True:\n",
        "  print ('conditional was true')\n",
        "\n",
        "x = 'python'\n",
        "if x == 'python':\n",
        "  print('condicao verdadeira')\n",
        "\n",
        "  x = 12 \n",
        "  if x>= 5:\n",
        "    print ('o valor é maior ')\n",
        "  else:\n",
        "   print ('o valor nao e menor')"
      ],
      "execution_count": 11,
      "outputs": [
        {
          "output_type": "stream",
          "text": [
            "conditional was true\n",
            "condicao verdadeira\n",
            "o valor é maior \n"
          ],
          "name": "stdout"
        }
      ]
    },
    {
      "cell_type": "code",
      "metadata": {
        "colab": {
          "base_uri": "https://localhost:8080/"
        },
        "id": "nEQgwCdyFLnC",
        "outputId": "1c166829-3d0e-4545-e273-f078ad850da4"
      },
      "source": [
        "y = 3\n",
        "if y >= 5:\n",
        "    print ('o valor é maior ')\n",
        "else:\n",
        "   print ('o valor e menor')"
      ],
      "execution_count": 18,
      "outputs": [
        {
          "output_type": "stream",
          "text": [
            "o valor e menor\n"
          ],
          "name": "stdout"
        }
      ]
    },
    {
      "cell_type": "code",
      "metadata": {
        "colab": {
          "base_uri": "https://localhost:8080/"
        },
        "id": "Y6sM2oiPFv-B",
        "outputId": "2be95cd5-3e65-48ee-a322-be556b4c00c0"
      },
      "source": [
        "x = 'java'\n",
        "if x == 'python':\n",
        "  print ('linguagem python')\n",
        "elif x== 'c':\n",
        "  print ('linguagem c')\n",
        "else:\n",
        "  print ('linguagem java')"
      ],
      "execution_count": 19,
      "outputs": [
        {
          "output_type": "stream",
          "text": [
            "linguagem java\n"
          ],
          "name": "stdout"
        }
      ]
    },
    {
      "cell_type": "code",
      "metadata": {
        "colab": {
          "base_uri": "https://localhost:8080/"
        },
        "id": "A_aKqRHRGRLx",
        "outputId": "50d9ef3a-a1e3-47f7-c714-30d46dbcd63b"
      },
      "source": [
        "user = 'admin'\n",
        "log = 'True'\n",
        "\n",
        "if user == 'admin' and log :\n",
        "  print ('usuario verificado')\n",
        "else:\n",
        "  print('usuario nao permitido')"
      ],
      "execution_count": 21,
      "outputs": [
        {
          "output_type": "stream",
          "text": [
            "usuario verificado\n"
          ],
          "name": "stdout"
        }
      ]
    },
    {
      "cell_type": "code",
      "metadata": {
        "colab": {
          "base_uri": "https://localhost:8080/"
        },
        "id": "h7VlqPCPGt9E",
        "outputId": "79b7867a-5e36-4932-af0f-bf396703d218"
      },
      "source": [
        "user = 'admin'\n",
        "log = 'false'\n",
        "\n",
        "if user == 'admin' and log =='True' :\n",
        "  print ('usuario verificado')\n",
        "else:\n",
        "  print('usuario nao permitido')"
      ],
      "execution_count": 23,
      "outputs": [
        {
          "output_type": "stream",
          "text": [
            "usuario nao permitido\n"
          ],
          "name": "stdout"
        }
      ]
    },
    {
      "cell_type": "code",
      "metadata": {
        "colab": {
          "base_uri": "https://localhost:8080/"
        },
        "id": "wN0pEjv_Hlf4",
        "outputId": "98f54619-e3a7-4046-cbd6-d97882d74905"
      },
      "source": [
        "a = [1,2,3]\n",
        "b = [1,2,3]\n",
        "\n",
        "print(a==b)\n",
        "print(a is b)\n",
        "print(id(a))\n",
        "print(id(b))"
      ],
      "execution_count": 27,
      "outputs": [
        {
          "output_type": "stream",
          "text": [
            "True\n",
            "False\n",
            "140360216042784\n",
            "140360216040864\n"
          ],
          "name": "stdout"
        }
      ]
    }
  ]
}