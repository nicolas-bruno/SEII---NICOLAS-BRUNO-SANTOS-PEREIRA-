{
  "nbformat": 4,
  "nbformat_minor": 0,
  "metadata": {
    "colab": {
      "name": "multiprocessing.ipynb",
      "provenance": [],
      "collapsed_sections": []
    },
    "kernelspec": {
      "name": "python3",
      "display_name": "Python 3"
    },
    "language_info": {
      "name": "python"
    }
  },
  "cells": [
    {
      "cell_type": "code",
      "metadata": {
        "colab": {
          "base_uri": "https://localhost:8080/"
        },
        "id": "2p302ERSKygG",
        "outputId": "f0c3d518-1b04-44ea-8dc7-495164736501"
      },
      "source": [
        "import time \n",
        "start = time.perf_counter()\n",
        "def do_something (): #cria a função do_something \n",
        "  print('sleeping in 3 seconds..')\n",
        "  time.sleep(3) #processará por 3 segundos \n",
        "  print('done sleeping')\n",
        "do_something()\n",
        "\n",
        "finish = time.perf_counter()\n",
        "print(f'Finished in {round(finish-start,3)} segundos(s)') # imprime as diferenças de tempo = tempo de exec."
      ],
      "execution_count": null,
      "outputs": [
        {
          "output_type": "stream",
          "text": [
            "sleeping in 3 seconds..\n",
            "done sleeping\n",
            "Finished in 3.006 segundos(s)\n"
          ],
          "name": "stdout"
        }
      ]
    },
    {
      "cell_type": "code",
      "metadata": {
        "colab": {
          "base_uri": "https://localhost:8080/"
        },
        "id": "4vspSFF0M4j4",
        "outputId": "20aa92d9-fbb7-4f90-cef4-fdd0d0fb9668"
      },
      "source": [
        "import time \n",
        "start = time.perf_counter()\n",
        "def do_something ():\n",
        "  print('sleeping in 3 seconds..')\n",
        "  time.sleep(3)\n",
        "  print('done sleeping')\n",
        "do_something() #roda do_something 2 vezes \n",
        "do_something()\n",
        "\n",
        "finish = time.perf_counter()\n",
        "print(f'Finished in {round(finish-start,3)} segundos(s)')"
      ],
      "execution_count": null,
      "outputs": [
        {
          "output_type": "stream",
          "text": [
            "sleeping in 3 seconds..\n",
            "done sleeping\n",
            "sleeping in 3 seconds..\n",
            "done sleeping\n",
            "Finished in 6.01 segundos(s)\n"
          ],
          "name": "stdout"
        }
      ]
    },
    {
      "cell_type": "code",
      "metadata": {
        "colab": {
          "base_uri": "https://localhost:8080/"
        },
        "id": "37_fOGH6QcF8",
        "outputId": "02a8f08c-bb3b-454c-9d4a-94cc54e1520e"
      },
      "source": [
        "import multiprocessing \n",
        "import time \n",
        "start = time.perf_counter()\n",
        "def do_something ():\n",
        "  print('sleeping in 3 seconds..')\n",
        "  time.sleep(3)\n",
        "  print('done sleeping')\n",
        "\n",
        "p1 = multiprocessing.Process(target = do_something)\n",
        "p2 = multiprocessing.Process(target = do_something)\n",
        "\n",
        "p1.start() #inicia o processo 1\n",
        "p2.start() # inicia o processo 2\n",
        "\n",
        "\n",
        "p1.join() # join garante que o código continuará\n",
        "p2.join() # somente após o fim da execução dos processos\n",
        "\n",
        "finish = time.perf_counter()\n",
        "print(f'Finished in {round(finish-start,3)} segundos(s)')"
      ],
      "execution_count": null,
      "outputs": [
        {
          "output_type": "stream",
          "text": [
            "sleeping in 3 seconds..\n",
            "sleeping in 3 seconds..\n",
            "done sleeping\n",
            "done sleeping\n",
            "Finished in 3.033 segundos(s)\n"
          ],
          "name": "stdout"
        }
      ]
    },
    {
      "cell_type": "code",
      "metadata": {
        "colab": {
          "base_uri": "https://localhost:8080/"
        },
        "id": "Xy86j_QfVN7h",
        "outputId": "867265b9-0a83-4fe0-be14-f5023e8fff3d"
      },
      "source": [
        "import multiprocessing \n",
        "import time \n",
        "start = time.perf_counter()\n",
        "def do_something (seconds):\n",
        "  print('sleeping {seconds} in 1 seconds(s)..')\n",
        "  time.sleep(seconds)\n",
        "  print('done sleeping')\n",
        "\n",
        "\n",
        "processos=[] \n",
        "for _ in range(10): #utilizando o for para rodar do_something 5 vezes \n",
        "  p = multiprocessing.Process(target= do_something, args=[1.5])\n",
        "  p.start()\n",
        "  processos.append(p)\n",
        "\n",
        "for processo in processos: #garante que o join será executado somente ao final do for acima \n",
        "   processo.join()\n",
        "\n",
        "\n",
        "finish = time.perf_counter()\n",
        "print(f'Finished in {round(finish-start,3)} segundos(s)')"
      ],
      "execution_count": null,
      "outputs": [
        {
          "output_type": "stream",
          "text": [
            "sleeping {seconds} in 1 seconds(s)..\n",
            "sleeping {seconds} in 1 seconds(s)..\n",
            "sleeping {seconds} in 1 seconds(s)..\n",
            "sleeping {seconds} in 1 seconds(s)..\n",
            "sleeping {seconds} in 1 seconds(s)..\n",
            "sleeping {seconds} in 1 seconds(s)..\n",
            "sleeping {seconds} in 1 seconds(s)..\n",
            "sleeping {seconds} in 1 seconds(s)..\n",
            "sleeping {seconds} in 1 seconds(s)..\n",
            "sleeping {seconds} in 1 seconds(s)..\n",
            "done sleeping\n",
            "done sleeping\n",
            "done sleeping\n",
            "done sleeping\n",
            "done sleeping\n",
            "done sleeping\n",
            "done sleeping\n",
            "done sleeping\n",
            "done sleeping\n",
            "done sleeping\n",
            "Finished in 1.636 segundos(s)\n"
          ],
          "name": "stdout"
        }
      ]
    },
    {
      "cell_type": "code",
      "metadata": {
        "colab": {
          "base_uri": "https://localhost:8080/"
        },
        "id": "UzZGi8L3aB6j",
        "outputId": "05641cc9-88a6-486b-ca4c-9b8a5a374edc"
      },
      "source": [
        "import concurrent.futures\n",
        "import multiprocessing \n",
        "import time \n",
        "start = time.perf_counter()\n",
        "def do_something (seconds):\n",
        "  print('sleeping {seconds} in 1 seconds(s)..')\n",
        "  time.sleep(seconds)\n",
        "  return 'done sleeping'\n",
        "\n",
        "with concurrent.futures.ProcessPoolExecutor() as executor:\n",
        "  f1 = executor.submit(do_something,1)\n",
        "  print(f1.result())\n",
        "\n",
        "\n",
        "finish = time.perf_counter()\n",
        "print(f'Finished in {round(finish-start,3)} segundos(s)')"
      ],
      "execution_count": null,
      "outputs": [
        {
          "output_type": "stream",
          "text": [
            "sleeping {seconds} in 1 seconds(s)..\n",
            "done sleeping\n",
            "Finished in 1.027 segundos(s)\n"
          ],
          "name": "stdout"
        }
      ]
    },
    {
      "cell_type": "code",
      "metadata": {
        "colab": {
          "base_uri": "https://localhost:8080/"
        },
        "id": "J3EehJghgd0_",
        "outputId": "8bd87576-6886-4fcd-db98-5aa046b4df44"
      },
      "source": [
        "import concurrent.futures\n",
        "import multiprocessing \n",
        "import time \n",
        "start = time.perf_counter()\n",
        "def do_something (seconds):\n",
        "  print(f'sleeping {seconds} in seconds(s)..')\n",
        "  time.sleep(seconds)\n",
        "  return f'done sleeping... {seconds}'\n",
        "\n",
        "with concurrent.futures.ProcessPoolExecutor() as executor:\n",
        "  secs = [5,4,3,2,1]\n",
        "  results = [executor.submit(do_something, sec)for sec in range(10)]\n",
        "\n",
        "  for f in concurrent.futures.as_completed(results):\n",
        "    print(f.result())\n",
        "finish = time.perf_counter()\n",
        "print(f'Finished in {round(finish-start,3)} segundos(s)')"
      ],
      "execution_count": null,
      "outputs": [
        {
          "output_type": "stream",
          "text": [
            "sleeping 0 in seconds(s)..\n",
            "sleeping 2 in seconds(s)..\n",
            "sleeping 1 in seconds(s)..\n",
            "done sleeping... 0\n",
            "sleeping 3 in seconds(s)..\n",
            "done sleeping... 1\n",
            "sleeping 4 in seconds(s)..\n",
            "done sleeping... 2\n",
            "sleeping 5 in seconds(s)..\n",
            "done sleeping... 3\n",
            "sleeping 6 in seconds(s)..\n",
            "done sleeping... 4\n",
            "sleeping 7 in seconds(s)..\n",
            "done sleeping... 5\n",
            "sleeping 8 in seconds(s)..\n",
            "done sleeping... 6\n",
            "sleeping 9 in seconds(s)..\n",
            "done sleeping... 7\n",
            "done sleeping... 8\n",
            "done sleeping... 9\n",
            "Finished in 25.072 segundos(s)\n"
          ],
          "name": "stdout"
        }
      ]
    },
    {
      "cell_type": "code",
      "metadata": {
        "colab": {
          "base_uri": "https://localhost:8080/"
        },
        "id": "2fv6fp-9iJku",
        "outputId": "94c5115a-2f0c-4069-acde-cab475c5307c"
      },
      "source": [
        "import concurrent.futures\n",
        "import multiprocessing \n",
        "import time \n",
        "start = time.perf_counter()\n",
        "def do_something (seconds):\n",
        "  print(f'sleeping {seconds} second(s)..')\n",
        "  time.sleep(seconds)\n",
        "  return f'done sleeping.. {seconds}'\n",
        "\n",
        "with concurrent.futures.ProcessPoolExecutor() as executor:\n",
        "  secs = [5,4,3,2,1]\n",
        "  results = executor.map(do_something, secs) #utilizacao do recurso map; rodará do_something\n",
        "                                            # sobre os secs \n",
        "\n",
        "  for result in results:\n",
        "     print(result)       \n",
        "\n",
        "finish = time.perf_counter()\n",
        "print(f'Finished in {round(finish-start,3)} segundos(s)')"
      ],
      "execution_count": null,
      "outputs": [
        {
          "output_type": "stream",
          "text": [
            "sleeping 4 second(s)..\n",
            "sleeping 5 second(s)..\n",
            "sleeping 3 second(s)..\n",
            "sleeping 2 second(s)..\n",
            "done sleeping.. 5\n",
            "done sleeping.. 4\n",
            "sleeping 1 second(s)..\n",
            "done sleeping.. 3\n",
            "done sleeping.. 2\n",
            "done sleeping.. 1\n",
            "Finished in 8.057 segundos(s)\n"
          ],
          "name": "stdout"
        }
      ]
    },
    {
      "cell_type": "code",
      "metadata": {
        "colab": {
          "base_uri": "https://localhost:8080/"
        },
        "id": "bJ7vrjX7mB4m",
        "outputId": "a6703003-a4a8-408f-e606-e4a454bd0aee"
      },
      "source": [
        "import concurrent.futures\n",
        "import multiprocessing \n",
        "import time \n",
        "start = time.perf_counter()\n",
        "def do_something (seconds):\n",
        "  print(f'sleeping {seconds} second(s)..')\n",
        "  time.sleep(seconds)\n",
        "  return f'done sleeping.. {seconds}'\n",
        "\n",
        "with concurrent.futures.ProcessPoolExecutor() as executor:\n",
        "  secs = [5,4,3,2,1]\n",
        "  results = executor.map(do_something, secs) #utilizacao do recurso map; rodará do_something\n",
        "                                            # sobre os secs \n",
        "\n",
        "finish = time.perf_counter()\n",
        "print(f'Finished in {round(finish-start,3)} segundos(s)')"
      ],
      "execution_count": null,
      "outputs": [
        {
          "output_type": "stream",
          "text": [
            "sleeping 5 second(s)..\n",
            "sleeping 4 second(s)..\n",
            "sleeping 3 second(s)..\n",
            "sleeping 2 second(s)..\n",
            "sleeping 1 second(s)..\n",
            "Finished in 8.04 segundos(s)\n"
          ],
          "name": "stdout"
        }
      ]
    },
    {
      "cell_type": "code",
      "metadata": {
        "id": "z3zcpoF2mYEu"
      },
      "source": [
        ""
      ],
      "execution_count": null,
      "outputs": []
    },
    {
      "cell_type": "code",
      "metadata": {
        "id": "Uo5ZYeLKmS0I"
      },
      "source": [
        "import time \n",
        "from PIL import Image, ImageFilter\n",
        "\n",
        "imagens_names = [             \n",
        "'chuttersnap-dijDmGXAiFY-unsplash.jpg'\n",
        "]\n",
        "t1 = time.perf_counter()\n",
        "size = (640,427)\n",
        "\n",
        "for imagens in imagens_names:\n",
        "  img = Image.open(imagens)\n",
        "  img = img.filter(ImageFilter.GaussianBlur(15))\n",
        "\n",
        "  img.thumbnail(size)\n",
        "  img.save(f'processed/{imagens}')\n",
        "  print(f'{imagens} was processed.')\n",
        "\n",
        "t2 = time.perf_counter()\n",
        "print(f'Finished in {t2-t1} seconds')\n"
      ],
      "execution_count": null,
      "outputs": []
    },
    {
      "cell_type": "markdown",
      "metadata": {
        "id": "y0xOnuekmXuq"
      },
      "source": [
        ""
      ]
    }
  ]
}