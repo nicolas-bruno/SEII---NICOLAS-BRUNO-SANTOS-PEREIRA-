{
  "nbformat": 4,
  "nbformat_minor": 0,
  "metadata": {
    "colab": {
      "name": "threading.ipynb",
      "provenance": [],
      "collapsed_sections": []
    },
    "kernelspec": {
      "name": "python3",
      "display_name": "Python 3"
    },
    "language_info": {
      "name": "python"
    }
  },
  "cells": [
    {
      "cell_type": "code",
      "metadata": {
        "colab": {
          "base_uri": "https://localhost:8080/"
        },
        "id": "pSKy57rDNgHQ",
        "outputId": "bf211964-3098-4741-cca9-d8a66aec7904"
      },
      "source": [
        "import threading \n",
        "import time \n",
        "start = time.perf_counter()\n",
        "\n",
        "def do_something (): #cria a função do_something \n",
        "  print('sleeping in 3 seconds..')\n",
        "  time.sleep(3) #processará por 3 segundos \n",
        "  print('done sleeping')\n",
        "\n",
        "t1 = threading.Thread(target=do_something)\n",
        "t2 = threading.Thread(target=do_something)\n",
        "t1.start()\n",
        "t2.start()\n",
        "t1.join()\n",
        "t2.join()\n",
        "\n",
        "finish = time.perf_counter()\n",
        "print(f'Finished in {round(finish-start,3)} segundos(s)') # imprime as diferenças de tempo = tempo de exec."
      ],
      "execution_count": 5,
      "outputs": [
        {
          "output_type": "stream",
          "text": [
            "sleeping in 3 seconds..\n",
            "sleeping in 3 seconds..\n",
            "done sleeping\n",
            "done sleeping\n",
            "Finished in 3.006 segundos(s)\n"
          ],
          "name": "stdout"
        }
      ]
    },
    {
      "cell_type": "code",
      "metadata": {
        "colab": {
          "base_uri": "https://localhost:8080/"
        },
        "id": "0ONQdU00PlBR",
        "outputId": "95f1e530-ef44-4457-cef4-724b34bf16d7"
      },
      "source": [
        "import threading \n",
        "import time \n",
        "start = time.perf_counter()\n",
        "\n",
        "def do_something (): #cria a função do_something \n",
        "  print('sleeping in 3 seconds..')\n",
        "  time.sleep(3) #processará por 3 segundos \n",
        "  print('done sleeping')\n",
        "\n",
        "threads=[]\n",
        "for _ in range (5):\n",
        "  t = threading.Thread(target=do_something)\n",
        "  t.start()\n",
        "  threads.append(t)\n",
        "\n",
        "for thread in threads:\n",
        "  thread.join()\n",
        "\n",
        "\n",
        "finish = time.perf_counter()\n",
        "print(f'Finished in {round(finish-start,3)} segundos(s)') # imprime as diferenças de tempo = tempo de exec."
      ],
      "execution_count": 6,
      "outputs": [
        {
          "output_type": "stream",
          "text": [
            "sleeping in 3 seconds..\n",
            "sleeping in 3 seconds..\n",
            "sleeping in 3 seconds..\n",
            "sleeping in 3 seconds..\n",
            "sleeping in 3 seconds..\n",
            "done sleeping\n",
            "done sleeping\n",
            "done sleeping\n",
            "done sleeping\n",
            "done sleeping\n",
            "Finished in 3.018 segundos(s)\n"
          ],
          "name": "stdout"
        }
      ]
    },
    {
      "cell_type": "code",
      "metadata": {
        "colab": {
          "base_uri": "https://localhost:8080/"
        },
        "id": "bz-q4-GAQWSq",
        "outputId": "efcd551c-c965-4b81-ca0c-71dc5e2c31ed"
      },
      "source": [
        "import threading \n",
        "import time \n",
        "start = time.perf_counter()\n",
        "\n",
        "def do_something (seconds): #cria a função do_something \n",
        "  print(f'sleeping {seconds} in second(s)..')\n",
        "  time.sleep(seconds) #processará por 3 segundos \n",
        "  print('\\ndone sleeping')\n",
        "\n",
        "threads=[]\n",
        "for _ in range (5):\n",
        "  t = threading.Thread(target=do_something, args=[2.0])\n",
        "  t.start()\n",
        "  threads.append(t)\n",
        "\n",
        "for thread in threads:\n",
        "  thread.join()\n",
        "\n",
        "\n",
        "finish = time.perf_counter()\n",
        "print(f'Finished in {round(finish-start,3)} segundos(s)') # imprime as diferenças de tempo = tempo de exec."
      ],
      "execution_count": 8,
      "outputs": [
        {
          "output_type": "stream",
          "text": [
            "sleeping 2.0 in second(s)..\n",
            "sleeping 2.0 in second(s)..\n",
            "sleeping 2.0 in second(s)..\n",
            "sleeping 2.0 in second(s)..\n",
            "sleeping 2.0 in second(s)..\n",
            "\n",
            "done sleeping\n",
            "\n",
            "done sleeping\n",
            "\n",
            "done sleeping\n",
            "\n",
            "done sleeping\n",
            "\n",
            "done sleeping\n",
            "Finished in 2.01 segundos(s)\n"
          ],
          "name": "stdout"
        }
      ]
    },
    {
      "cell_type": "code",
      "metadata": {
        "colab": {
          "base_uri": "https://localhost:8080/"
        },
        "id": "FmffcgHxRK0d",
        "outputId": "5fc20ec4-261b-4b9b-9499-323c6e4606e6"
      },
      "source": [
        "import concurrent.futures\n",
        "import time \n",
        "start = time.perf_counter()\n",
        "\n",
        "def do_something (seconds): #cria a função do_something \n",
        "  print(f'sleeping {seconds} in second(s)..')\n",
        "  time.sleep(seconds) #processará por 3 segundos \n",
        "  return'\\ndone sleeping'\n",
        "\n",
        "with concurrent.futures.ThreadPoolExecutor () as executor:\n",
        "  f1 = executor.submit(do_something, 1) \n",
        "  f2 = executor.submit(do_something, 1) \n",
        "\n",
        "  print(f1.result())\n",
        "  print(f2.result())\n",
        "\n",
        "finish = time.perf_counter()\n",
        "print(f'Finished in {round(finish-start,3)} segundos(s)') # imprime as diferenças de tempo = tempo de exec."
      ],
      "execution_count": 10,
      "outputs": [
        {
          "output_type": "stream",
          "text": [
            "sleeping 1 in second(s)..\n",
            "sleeping 1 in second(s)..\n",
            "\n",
            "done sleeping\n",
            "\n",
            "done sleeping\n",
            "Finished in 1.008 segundos(s)\n"
          ],
          "name": "stdout"
        }
      ]
    },
    {
      "cell_type": "code",
      "metadata": {
        "colab": {
          "base_uri": "https://localhost:8080/"
        },
        "id": "VyPc7lqYScG2",
        "outputId": "9ce07b2e-9f70-419c-e56e-da23daea0ff4"
      },
      "source": [
        "import requests \n",
        "import time \n",
        "import concurrent.futures\n",
        "\n",
        "\n",
        "imagens_url = [             \n",
        "'https://unsplash.com/photos/dF3UUgTdGGw',\n",
        "'https://unsplash.com/photos/v-ti3sccORY'\n",
        "]\n",
        "\n",
        "t1 = time.perf_counter()\n",
        "\n",
        "\n",
        "def download(img_url):\n",
        "  img_bytes = requests.get(img_url).content\n",
        "  img_name = img_url.split('/')[3]\n",
        "  img_name = f'{img_name}.jpg'\n",
        "\n",
        "  with open (img_name,'wb') as img_file:\n",
        "    img_file.write(img_bytes)\n",
        "    print(f'{img_name} was downloaded..')\n",
        "\n",
        "with concurrent.futures.ThreadPoolExecutor() as executor:\n",
        "  executor.map(download,imagens_url)\n",
        "\n",
        "t2 = time.perf_counter()\n",
        "print(f'Finished in {t2-t1} seconds')\n"
      ],
      "execution_count": 21,
      "outputs": [
        {
          "output_type": "stream",
          "text": [
            "photos.jpg was downloaded..\n",
            "photos.jpg was downloaded..\n",
            "Finished in 0.07589072200016744 seconds\n"
          ],
          "name": "stdout"
        }
      ]
    }
  ]
}