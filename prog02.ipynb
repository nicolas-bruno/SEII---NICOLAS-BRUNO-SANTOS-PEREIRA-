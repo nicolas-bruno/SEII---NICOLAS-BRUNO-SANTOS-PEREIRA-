{
  "nbformat": 4,
  "nbformat_minor": 0,
  "metadata": {
    "colab": {
      "name": "prog01.ipynb",
      "provenance": [],
      "collapsed_sections": []
    },
    "kernelspec": {
      "name": "python3",
      "display_name": "Python 3"
    },
    "language_info": {
      "name": "python"
    }
  },
  "cells": [
    {
      "cell_type": "code",
      "metadata": {
        "colab": {
          "base_uri": "https://localhost:8080/"
        },
        "id": "6ZcmgzOFqZdf",
        "outputId": "0f5591dd-9682-443d-e59d-f69ca14f7ac8"
      },
      "source": [
        "print ('hello world')\n"
      ],
      "execution_count": null,
      "outputs": [
        {
          "output_type": "stream",
          "text": [
            "hello world\n"
          ],
          "name": "stdout"
        }
      ]
    },
    {
      "cell_type": "code",
      "metadata": {
        "colab": {
          "base_uri": "https://localhost:8080/"
        },
        "id": "SZTe4FfaqlhW",
        "outputId": "2363c816-1be9-4ce4-d3b2-56d56df51fc9"
      },
      "source": [
        "x = 'hello world'\n",
        "print(x)"
      ],
      "execution_count": null,
      "outputs": [
        {
          "output_type": "stream",
          "text": [
            "hello world\n"
          ],
          "name": "stdout"
        }
      ]
    },
    {
      "cell_type": "code",
      "metadata": {
        "colab": {
          "base_uri": "https://localhost:8080/"
        },
        "id": "DrrrrI3trRci",
        "outputId": "3efdeb6b-1449-4c79-be95-46f26dd4c7ce"
      },
      "source": [
        "x = 'hello world'\n",
        "print(len(x))\n"
      ],
      "execution_count": null,
      "outputs": [
        {
          "output_type": "stream",
          "text": [
            "11\n"
          ],
          "name": "stdout"
        }
      ]
    },
    {
      "cell_type": "code",
      "metadata": {
        "colab": {
          "base_uri": "https://localhost:8080/"
        },
        "id": "pDMeI4HGreHL",
        "outputId": "961afbd7-670e-4da8-83f9-d36aa1f70622"
      },
      "source": [
        "x = 'hello world'\n",
        "print(x[10])\n",
        "print(x[0])\n",
        "print(x[0:6]) #printa um intervalo da string \n"
      ],
      "execution_count": null,
      "outputs": [
        {
          "output_type": "stream",
          "text": [
            "d\n",
            "h\n",
            "hello \n"
          ],
          "name": "stdout"
        }
      ]
    },
    {
      "cell_type": "code",
      "metadata": {
        "colab": {
          "base_uri": "https://localhost:8080/"
        },
        "id": "tNoE7focrvb9",
        "outputId": "fd6c7ec1-abb4-4317-ab21-d1497fb49e87"
      },
      "source": [
        "x = 'hello world'\n",
        "print(x.upper()) #letras maisculas\n",
        "print (x.find('l')) #procura a letra l e aponta a quantidade "
      ],
      "execution_count": null,
      "outputs": [
        {
          "output_type": "stream",
          "text": [
            "HELLO WORLD\n",
            "2\n"
          ],
          "name": "stdout"
        }
      ]
    },
    {
      "cell_type": "code",
      "metadata": {
        "colab": {
          "base_uri": "https://localhost:8080/"
        },
        "id": "zAq0PNv7sj85",
        "outputId": "6ac7cd78-9f91-4ccf-92e8-626542d18616"
      },
      "source": [
        "mensagem = 'hello world'\n",
        "y = mensagem.replace('hello','ola') #substitui termos da string\n",
        "print(y)"
      ],
      "execution_count": null,
      "outputs": [
        {
          "output_type": "stream",
          "text": [
            "ola world\n"
          ],
          "name": "stdout"
        }
      ]
    },
    {
      "cell_type": "code",
      "metadata": {
        "colab": {
          "base_uri": "https://localhost:8080/"
        },
        "id": "kc-UYGeVtNR-",
        "outputId": "560bd46e-ad62-4b54-a856-b10c9a10f0c3"
      },
      "source": [
        "mensagem = 'ola'\n",
        "nome = ' nicolas'\n",
        "saudacao = mensagem+nome\n",
        "print(saudacao)"
      ],
      "execution_count": null,
      "outputs": [
        {
          "output_type": "stream",
          "text": [
            "ola nicolas\n"
          ],
          "name": "stdout"
        }
      ]
    },
    {
      "cell_type": "code",
      "metadata": {
        "colab": {
          "base_uri": "https://localhost:8080/"
        },
        "id": "soBl7Nvws0if",
        "outputId": "ee591501-309e-40d4-eff5-c050bdc2ad10"
      },
      "source": [
        "x = 'hello world'\n",
        "print(help())"
      ],
      "execution_count": null,
      "outputs": [
        {
          "output_type": "stream",
          "text": [
            "\n",
            "Welcome to Python 3.7's help utility!\n",
            "\n",
            "If this is your first time using Python, you should definitely check out\n",
            "the tutorial on the Internet at https://docs.python.org/3.7/tutorial/.\n",
            "\n",
            "Enter the name of any module, keyword, or topic to get help on writing\n",
            "Python programs and using Python modules.  To quit this help utility and\n",
            "return to the interpreter, just type \"quit\".\n",
            "\n",
            "To get a list of available modules, keywords, symbols, or topics, type\n",
            "\"modules\", \"keywords\", \"symbols\", or \"topics\".  Each module also comes\n",
            "with a one-line summary of what it does; to list the modules whose name\n",
            "or summary contain a given string such as \"spam\", type \"modules spam\".\n",
            "\n"
          ],
          "name": "stdout"
        }
      ]
    },
    {
      "cell_type": "code",
      "metadata": {
        "id": "E9bRjRyPtzMQ"
      },
      "source": [
        ""
      ],
      "execution_count": null,
      "outputs": []
    }
  ]
}
