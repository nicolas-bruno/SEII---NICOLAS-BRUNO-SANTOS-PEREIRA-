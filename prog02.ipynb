{
  "nbformat": 4,
  "nbformat_minor": 0,
  "metadata": {
    "colab": {
      "name": "prog02.ipynb",
      "provenance": [],
      "collapsed_sections": []
    },
    "kernelspec": {
      "name": "python3",
      "display_name": "Python 3"
    },
    "language_info": {
      "name": "python"
    }
  },
  "cells": [
    {
      "cell_type": "code",
      "metadata": {
        "colab": {
          "base_uri": "https://localhost:8080/"
        },
        "id": "JhKPEauSzGCi",
        "outputId": "ea208d9d-2044-4c12-cc7c-e12e43532d91"
      },
      "source": [
        "x = 3.14\n",
        "y = 4\n",
        "print(type(x))\n",
        "print(type(y))"
      ],
      "execution_count": 2,
      "outputs": [
        {
          "output_type": "stream",
          "text": [
            "<class 'float'>\n",
            "<class 'int'>\n"
          ],
          "name": "stdout"
        }
      ]
    },
    {
      "cell_type": "code",
      "metadata": {
        "colab": {
          "base_uri": "https://localhost:8080/"
        },
        "id": "J33Ii-vGzhio",
        "outputId": "5ee6587f-751b-4b04-abf6-f6c7abf4434d"
      },
      "source": [
        "print(3*2) # multiplicaçao\n",
        "print(3//2) # resto de divisao \n",
        "print(3**2) #potenciaçao\n",
        "print(abs(-212)) # módulo\n",
        "print(round(3.75))"
      ],
      "execution_count": 5,
      "outputs": [
        {
          "output_type": "stream",
          "text": [
            "6\n",
            "1\n",
            "9\n",
            "212\n",
            "4\n"
          ],
          "name": "stdout"
        }
      ]
    },
    {
      "cell_type": "code",
      "metadata": {
        "colab": {
          "base_uri": "https://localhost:8080/"
        },
        "id": "Q6KqmyHd0Deu",
        "outputId": "45fc99bb-9aa5-4e8a-cc84-b305dba7594a"
      },
      "source": [
        "num_1 = 5\n",
        "num_2 = 8\n",
        "print(num_1>num_2) #operadores > e < "
      ],
      "execution_count": 6,
      "outputs": [
        {
          "output_type": "stream",
          "text": [
            "False\n"
          ],
          "name": "stdout"
        }
      ]
    },
    {
      "cell_type": "code",
      "metadata": {
        "colab": {
          "base_uri": "https://localhost:8080/"
        },
        "id": "vphYlJpt0WsI",
        "outputId": "65470297-8e98-425d-ec99-2040c2d39709"
      },
      "source": [
        "num_1 = '500'\n",
        "num_2 = '800'\n",
        "print(num_1+num_2) #os numeros são unidos porque '' definem string \n",
        "num_1 = '500'\n",
        "num_2 = '800'\n",
        "\n",
        "num_1 = (int(num_1)) #definindo como inteiros \n",
        "num_2 = (int(num_2))\n",
        "\n",
        "print(num_1+num_2) #soma algebrica "
      ],
      "execution_count": 8,
      "outputs": [
        {
          "output_type": "stream",
          "text": [
            "500800\n",
            "1300\n"
          ],
          "name": "stdout"
        }
      ]
    }
  ]
}