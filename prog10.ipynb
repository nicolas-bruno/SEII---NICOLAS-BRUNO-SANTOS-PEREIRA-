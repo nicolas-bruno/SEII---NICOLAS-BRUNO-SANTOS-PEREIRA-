{
  "nbformat": 4,
  "nbformat_minor": 0,
  "metadata": {
    "colab": {
      "name": "prog10.ipynb",
      "provenance": [],
      "collapsed_sections": []
    },
    "kernelspec": {
      "name": "python3",
      "display_name": "Python 3"
    },
    "language_info": {
      "name": "python"
    }
  },
  "cells": [
    {
      "cell_type": "code",
      "metadata": {
        "colab": {
          "base_uri": "https://localhost:8080/"
        },
        "id": "3HHVrj37X_k8",
        "outputId": "bc9104f8-aeba-45f1-b17f-1ba2af4d1a8a"
      },
      "source": [
        "#operaçoes com diretorios \n",
        "\n",
        "import os \n",
        "print(os.getcwd())\n",
        "os.mkdir('')"
      ],
      "execution_count": 5,
      "outputs": [
        {
          "output_type": "stream",
          "text": [
            "/content\n"
          ],
          "name": "stdout"
        }
      ]
    }
  ]
}