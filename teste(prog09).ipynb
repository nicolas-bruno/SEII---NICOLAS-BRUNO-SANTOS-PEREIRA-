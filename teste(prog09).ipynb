{
  "nbformat": 4,
  "nbformat_minor": 0,
  "metadata": {
    "colab": {
      "name": "teste(prog09).ipynb",
      "provenance": []
    },
    "kernelspec": {
      "name": "python3",
      "display_name": "Python 3"
    },
    "language_info": {
      "name": "python"
    }
  },
  "cells": [
    {
      "cell_type": "code",
      "metadata": {
        "colab": {
          "base_uri": "https://localhost:8080/"
        },
        "id": "3HHVrj37X_k8",
        "outputId": "1835de91-9028-4081-e951-45cccad5a9a9"
      },
      "source": [
        "print('importando...')\n",
        "teste = 'testando string'\n",
        "\n",
        "def find_index(to_search,target):\n",
        "  for i, valor in enumerate (to_search):\n",
        "    if valor == target:\n",
        "      return  i\n",
        "\n",
        "  return -1"
      ],
      "execution_count": 1,
      "outputs": [
        {
          "output_type": "stream",
          "text": [
            "importando...\n"
          ],
          "name": "stdout"
        }
      ]
    }
  ]
}