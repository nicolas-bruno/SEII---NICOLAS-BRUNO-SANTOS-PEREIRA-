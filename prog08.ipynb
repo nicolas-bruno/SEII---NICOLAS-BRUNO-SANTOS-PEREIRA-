{
  "nbformat": 4,
  "nbformat_minor": 0,
  "metadata": {
    "colab": {
      "name": "prog08.ipynb",
      "provenance": []
    },
    "kernelspec": {
      "name": "python3",
      "display_name": "Python 3"
    },
    "language_info": {
      "name": "python"
    }
  },
  "cells": [
    {
      "cell_type": "code",
      "metadata": {
        "colab": {
          "base_uri": "https://localhost:8080/"
        },
        "id": "k_KKJmzNPREO",
        "outputId": "84cfb5f2-1a76-4515-9212-83020cef6af4"
      },
      "source": [
        "def hello_func():\n",
        "    pass\n",
        "print (hello_func)\n",
        "\n",
        "def hello_func():\n",
        "  print ('ola funçao')\n",
        "hello_func()"
      ],
      "execution_count": 6,
      "outputs": [
        {
          "output_type": "stream",
          "text": [
            "<function hello_func at 0x7f5650f5e320>\n",
            "ola funçao\n"
          ],
          "name": "stdout"
        }
      ]
    },
    {
      "cell_type": "code",
      "metadata": {
        "colab": {
          "base_uri": "https://localhost:8080/"
        },
        "id": "CxXeeeLiQdYw",
        "outputId": "7360afd9-7a8a-46e5-8405-fadda1afc971"
      },
      "source": [
        "def hello_func():\n",
        "    return 'ola funçao'\n",
        "hello_func()\n",
        "print(hello_func().upper())"
      ],
      "execution_count": 11,
      "outputs": [
        {
          "output_type": "stream",
          "text": [
            "OLA FUNÇAO\n"
          ],
          "name": "stdout"
        }
      ]
    },
    {
      "cell_type": "code",
      "metadata": {
        "colab": {
          "base_uri": "https://localhost:8080/"
        },
        "id": "6IeL2i7vRJfn",
        "outputId": "a70e204b-1d52-4801-d360-f3bf111ff57f"
      },
      "source": [
        "def hello_func(saudacao):\n",
        "    return '{} funcao'.format(saudacao)\n",
        "print(hello_func('oi').upper())"
      ],
      "execution_count": 13,
      "outputs": [
        {
          "output_type": "stream",
          "text": [
            "OI FUNCAO\n"
          ],
          "name": "stdout"
        }
      ]
    },
    {
      "cell_type": "code",
      "metadata": {
        "colab": {
          "base_uri": "https://localhost:8080/"
        },
        "id": "wZ_EdAy_R2Zm",
        "outputId": "a25c6df1-7f57-4efc-e98d-fc1b3a4cd70f"
      },
      "source": [
        "\n",
        "def hello_func(saudacao,nome='nicolas'):\n",
        "  return '{},{}'.format(saudacao,nome)\n",
        "\n",
        "print(hello_func('ola','cleiton'))\n"
      ],
      "execution_count": 20,
      "outputs": [
        {
          "output_type": "stream",
          "text": [
            "ola,cleiton\n"
          ],
          "name": "stdout"
        }
      ]
    },
    {
      "cell_type": "code",
      "metadata": {
        "colab": {
          "base_uri": "https://localhost:8080/"
        },
        "id": "3wdTjTgrTJOs",
        "outputId": "c4ff02c7-51da-406a-fa2b-26c5ac5a81b5"
      },
      "source": [
        "def estudante(*arg,**kwargs):\n",
        "  print(arg)\n",
        "  print(kwargs)\n",
        "\n",
        "cursos = ['matematica','artes']\n",
        "estudante('matematica','portugues','ciencias',name='jose')"
      ],
      "execution_count": 23,
      "outputs": [
        {
          "output_type": "stream",
          "text": [
            "('matematica', 'portugues', 'ciencias')\n",
            "{'name': 'jose'}\n"
          ],
          "name": "stdout"
        }
      ]
    },
    {
      "cell_type": "code",
      "metadata": {
        "id": "gguG2newToUy"
      },
      "source": [
        ""
      ],
      "execution_count": null,
      "outputs": []
    }
  ]
}