{
  "nbformat": 4,
  "nbformat_minor": 0,
  "metadata": {
    "colab": {
      "name": "prog19.ipynb",
      "provenance": [],
      "collapsed_sections": []
    },
    "kernelspec": {
      "name": "python3",
      "display_name": "Python 3"
    },
    "language_info": {
      "name": "python"
    }
  },
  "cells": [
    {
      "cell_type": "code",
      "metadata": {
        "colab": {
          "base_uri": "https://localhost:8080/"
        },
        "id": "kmpQi9ZMo9qg",
        "outputId": "bd335774-c824-489b-d37d-3fe72ba2af73"
      },
      "source": [
        "list = [1,5,3,34,9,7,6]\n",
        "s_list = sorted(list)\n",
        "print('Sorted Variable:\\t',s_list)\n",
        "print('Original Variable:\\t',list)"
      ],
      "execution_count": 3,
      "outputs": [
        {
          "output_type": "stream",
          "text": [
            "Sorted Variable:\t [1, 3, 5, 6, 7, 9, 34]\n",
            "Original Variable:\t [1, 5, 3, 34, 9, 7, 6]\n"
          ],
          "name": "stdout"
        }
      ]
    },
    {
      "cell_type": "code",
      "metadata": {
        "colab": {
          "base_uri": "https://localhost:8080/"
        },
        "id": "fQL2viZ5puNk",
        "outputId": "50f78955-f540-4f71-f105-b0ca30ce7167"
      },
      "source": [
        "tupla = (1,5,3,34,9,7,6)\n",
        "s_tupla = sorted(tupla)\n",
        "print('Tupla\\t',s_tupla)"
      ],
      "execution_count": 4,
      "outputs": [
        {
          "output_type": "stream",
          "text": [
            "Tupla\t [1, 3, 5, 6, 7, 9, 34]\n"
          ],
          "name": "stdout"
        }
      ]
    },
    {
      "cell_type": "code",
      "metadata": {
        "id": "KO_6xdzTp6md"
      },
      "source": [
        ""
      ],
      "execution_count": null,
      "outputs": []
    }
  ]
}