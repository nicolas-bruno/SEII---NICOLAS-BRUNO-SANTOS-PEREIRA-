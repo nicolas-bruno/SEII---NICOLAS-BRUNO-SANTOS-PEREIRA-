{
  "nbformat": 4,
  "nbformat_minor": 0,
  "metadata": {
    "colab": {
      "name": "prog04.ipynb",
      "provenance": []
    },
    "kernelspec": {
      "name": "python3",
      "display_name": "Python 3"
    },
    "language_info": {
      "name": "python"
    }
  },
  "cells": [
    {
      "cell_type": "code",
      "metadata": {
        "colab": {
          "base_uri": "https://localhost:8080/"
        },
        "id": "PkYXghX710WT",
        "outputId": "6cbed54a-6c2f-4035-bd12-7c5053018685"
      },
      "source": [
        "  cursos = ['Historia','Portugues','Matematica','Ciencias']\n",
        "  print(cursos)\n",
        "  print(len(cursos))\n",
        "  print(cursos[0]) #printa o primeiro curso da string \n",
        "  cursos.append('Artes') #adiciona um elemento \n",
        "  print(cursos)"
      ],
      "execution_count": 5,
      "outputs": [
        {
          "output_type": "stream",
          "text": [
            "['Historia', 'Portugues', 'Matematica', 'Ciencias']\n",
            "4\n",
            "Historia\n",
            "['Historia', 'Portugues', 'Matematica', 'Ciencias', 'Artes']\n"
          ],
          "name": "stdout"
        }
      ]
    },
    {
      "cell_type": "code",
      "metadata": {
        "colab": {
          "base_uri": "https://localhost:8080/"
        },
        "id": "mtXzkgNr238h",
        "outputId": "bfe2adae-68c2-4cf6-c84e-5fb349fa554a"
      },
      "source": [
        "cursos = ['Historia','Portugues','Matematica','Ciencias']\n",
        "disciplinas = ['Geografia','Gramática']\n",
        "cursos.insert(3,disciplinas) #concatena as duas strings em uma posição\n",
        "print(cursos)\n",
        "cursos.remove('Historia')\n",
        "print (cursos) #remove um termo \n"
      ],
      "execution_count": 9,
      "outputs": [
        {
          "output_type": "stream",
          "text": [
            "['Historia', 'Portugues', 'Matematica', ['Geografia', 'Gramática'], 'Ciencias']\n",
            "['Portugues', 'Matematica', ['Geografia', 'Gramática'], 'Ciencias']\n"
          ],
          "name": "stdout"
        }
      ]
    },
    {
      "cell_type": "code",
      "metadata": {
        "colab": {
          "base_uri": "https://localhost:8080/"
        },
        "id": "eYJ7QsqP3roC",
        "outputId": "e49e0f56-b098-4dfa-d1a3-460c224669c3"
      },
      "source": [
        "cursos = ['Historia','Portugues','Matematica','Ciencias']\n",
        "num = [1,34,7,9.1,80]\n",
        "print(cursos)\n",
        "print(num)\n",
        "\n",
        "cursos.sort() #ordem alfabetica\n",
        "num.sort() #ordem crescente\n",
        "print(cursos)\n",
        "print(num)"
      ],
      "execution_count": 11,
      "outputs": [
        {
          "output_type": "stream",
          "text": [
            "['Historia', 'Portugues', 'Matematica', 'Ciencias']\n",
            "[1, 34, 7, 9.1, 80]\n",
            "['Ciencias', 'Historia', 'Matematica', 'Portugues']\n",
            "[1, 7, 9.1, 34, 80]\n"
          ],
          "name": "stdout"
        }
      ]
    },
    {
      "cell_type": "code",
      "metadata": {
        "colab": {
          "base_uri": "https://localhost:8080/"
        },
        "id": "rv4lHaT02oY-",
        "outputId": "a6bef794-0012-46d1-951a-e92df36a458d"
      },
      "source": [
        "num = [1,34,7,9.1,80]\n",
        "cursos = ['Historia','Portugues','Matematica','Ciencias']\n",
        "\n",
        "print(min(num))\n",
        "print(max(num))\n",
        "\n"
      ],
      "execution_count": 14,
      "outputs": [
        {
          "output_type": "stream",
          "text": [
            "1\n",
            "80\n"
          ],
          "name": "stdout"
        }
      ]
    },
    {
      "cell_type": "code",
      "metadata": {
        "colab": {
          "base_uri": "https://localhost:8080/"
        },
        "id": "MRWPxyyH4wVH",
        "outputId": "5a27a693-9cdf-480b-b172-782a0886577d"
      },
      "source": [
        "cursos = ['Historia','Portugues','Matematica','Ciencias']\n",
        "for x in cursos:\n",
        "  print(x)"
      ],
      "execution_count": 17,
      "outputs": [
        {
          "output_type": "stream",
          "text": [
            "Historia\n",
            "Portugues\n",
            "Matematica\n",
            "Ciencias\n"
          ],
          "name": "stdout"
        }
      ]
    }
  ]
}