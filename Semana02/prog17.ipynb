{
  "nbformat": 4,
  "nbformat_minor": 0,
  "metadata": {
    "colab": {
      "name": "prog17.ipynb",
      "provenance": [],
      "collapsed_sections": []
    },
    "kernelspec": {
      "name": "python3",
      "display_name": "Python 3"
    },
    "language_info": {
      "name": "python"
    }
  },
  "cells": [
    {
      "cell_type": "code",
      "metadata": {
        "colab": {
          "base_uri": "https://localhost:8080/"
        },
        "id": "3HHVrj37X_k8",
        "outputId": "a51976e0-af55-4e29-8104-ad0e46dbd75a"
      },
      "source": [
        "import datetime\n",
        "tday=datetime.date.today() \n",
        "print(tday.day)\n",
        "print(tday.month)\n",
        "print(tday.year)"
      ],
      "execution_count": 11,
      "outputs": [
        {
          "output_type": "stream",
          "text": [
            "20\n",
            "3\n",
            "2021\n"
          ],
          "name": "stdout"
        }
      ]
    },
    {
      "cell_type": "code",
      "metadata": {
        "colab": {
          "base_uri": "https://localhost:8080/"
        },
        "id": "8Sx7QOwtipCh",
        "outputId": "1fe53a6a-af27-4255-94a5-59f2943d73e9"
      },
      "source": [
        "import datetime\n",
        "tday=datetime.date.today() \n",
        "tdelta = datetime.timedelta(days=7)\n",
        "print(tday+tdelta)"
      ],
      "execution_count": 13,
      "outputs": [
        {
          "output_type": "stream",
          "text": [
            "2021-03-27\n"
          ],
          "name": "stdout"
        }
      ]
    },
    {
      "cell_type": "code",
      "metadata": {
        "colab": {
          "base_uri": "https://localhost:8080/"
        },
        "id": "oKCIOT_djIk0",
        "outputId": "efc4cf90-bb43-4172-d6e9-b0de3e58d260"
      },
      "source": [
        "import datetime\n",
        "tday=datetime.date.today() \n",
        "tdelta = datetime.timedelta(days=7)\n",
        "bday = datetime.date(2021,12,29)\n",
        "niver = bday-tday\n",
        "print(niver.total_seconds()) # segundos restantes para o aniversario "
      ],
      "execution_count": 16,
      "outputs": [
        {
          "output_type": "stream",
          "text": [
            "24537600.0\n"
          ],
          "name": "stdout"
        }
      ]
    },
    {
      "cell_type": "code",
      "metadata": {
        "colab": {
          "base_uri": "https://localhost:8080/"
        },
        "id": "3Y6vqyZjkWEp",
        "outputId": "977035e5-53e4-46c3-c1d5-5cf8d4073b61"
      },
      "source": [
        "import datetime \n",
        "t = datetime.time(9,30,45,1000)\n",
        "print(t)\n",
        "print(t.hour)\n",
        "print(t.minute)"
      ],
      "execution_count": 18,
      "outputs": [
        {
          "output_type": "stream",
          "text": [
            "09:30:45.001000\n",
            "9\n",
            "30\n"
          ],
          "name": "stdout"
        }
      ]
    },
    {
      "cell_type": "code",
      "metadata": {
        "colab": {
          "base_uri": "https://localhost:8080/"
        },
        "id": "t3nNatTkkrsT",
        "outputId": "12c60cdb-ed8f-469a-a85c-3d7bceed8097"
      },
      "source": [
        "import datetime \n",
        "hoje = datetime.datetime.today()\n",
        "agora = datetime.datetime.now()\n",
        "utc = datetime.datetime.utcnow()\n",
        "print(hoje)\n",
        "print(agora)\n",
        "print(utc)\n"
      ],
      "execution_count": 19,
      "outputs": [
        {
          "output_type": "stream",
          "text": [
            "2021-03-20 12:21:12.384017\n",
            "2021-03-20 12:21:12.384081\n",
            "2021-03-20 12:21:12.384100\n"
          ],
          "name": "stdout"
        }
      ]
    },
    {
      "cell_type": "code",
      "metadata": {
        "colab": {
          "base_uri": "https://localhost:8080/"
        },
        "id": "r36uL7Iek_K7",
        "outputId": "034652d4-dcf0-4c4a-88a6-4fc4a98e93c0"
      },
      "source": [
        "import datetime \n",
        "import pytz\n",
        "\n",
        "dt = datetime.datetime(2022,8,26,12,30,45,100000)\n",
        "tdelta = datetime.timedelta(hours=7)\n",
        "print(dt.year)\n",
        "print(dt.month)\n",
        "print(dt+tdelta)"
      ],
      "execution_count": 26,
      "outputs": [
        {
          "output_type": "stream",
          "text": [
            "2022\n",
            "8\n",
            "2022-08-26 19:30:45.100000\n"
          ],
          "name": "stdout"
        }
      ]
    }
  ]
}