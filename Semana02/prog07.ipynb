{
  "nbformat": 4,
  "nbformat_minor": 0,
  "metadata": {
    "colab": {
      "name": "prog07.ipynb",
      "provenance": []
    },
    "kernelspec": {
      "name": "python3",
      "display_name": "Python 3"
    },
    "language_info": {
      "name": "python"
    }
  },
  "cells": [
    {
      "cell_type": "code",
      "metadata": {
        "colab": {
          "base_uri": "https://localhost:8080/"
        },
        "id": "hxrVKpfuJXFS",
        "outputId": "680779d1-91df-4743-e7fa-ba673a07ceab"
      },
      "source": [
        "a = [1,2,3,4,5,6,7]\n",
        "for num in a:\n",
        "  print(num)"
      ],
      "execution_count": 14,
      "outputs": [
        {
          "output_type": "stream",
          "text": [
            "1\n",
            "2\n",
            "3\n",
            "4\n",
            "5\n",
            "6\n",
            "7\n"
          ],
          "name": "stdout"
        }
      ]
    },
    {
      "cell_type": "code",
      "metadata": {
        "colab": {
          "base_uri": "https://localhost:8080/"
        },
        "id": "F_vpCTB7KSlq",
        "outputId": "c1c164a2-3755-4219-bcc8-6a6a830565a9"
      },
      "source": [
        "a = [1,2,3,4,5,6,7]\n",
        "for num in a:\n",
        "  if num == 5:\n",
        "    print ('stop!')\n",
        "    break \n",
        "  print(num)\n"
      ],
      "execution_count": 18,
      "outputs": [
        {
          "output_type": "stream",
          "text": [
            "1\n",
            "2\n",
            "3\n",
            "4\n",
            "stop!\n"
          ],
          "name": "stdout"
        }
      ]
    },
    {
      "cell_type": "code",
      "metadata": {
        "colab": {
          "base_uri": "https://localhost:8080/"
        },
        "id": "ds_MKPF6Ky-p",
        "outputId": "23f077bb-987d-4fc0-c072-479c664a2409"
      },
      "source": [
        "a = [1,2,3,4,5,6,7]\n",
        "for num in a:\n",
        "  if num == 5:\n",
        "    print ('stop!')\n",
        "    continue\n",
        "  print(num)\n"
      ],
      "execution_count": 20,
      "outputs": [
        {
          "output_type": "stream",
          "text": [
            "1\n",
            "2\n",
            "3\n",
            "4\n",
            "stop!\n",
            "6\n",
            "7\n"
          ],
          "name": "stdout"
        }
      ]
    },
    {
      "cell_type": "code",
      "metadata": {
        "colab": {
          "base_uri": "https://localhost:8080/"
        },
        "id": "telHS23lLTZd",
        "outputId": "02f47f24-3970-475f-aa29-5bc17ceccd59"
      },
      "source": [
        "for i in range(5): \n",
        "  print (i)"
      ],
      "execution_count": 21,
      "outputs": [
        {
          "output_type": "stream",
          "text": [
            "0\n",
            "1\n",
            "2\n",
            "3\n",
            "4\n"
          ],
          "name": "stdout"
        }
      ]
    },
    {
      "cell_type": "code",
      "metadata": {
        "colab": {
          "base_uri": "https://localhost:8080/"
        },
        "id": "VAQtzfaMLfPv",
        "outputId": "7ca58bee-0f3e-4755-a13a-101ef9a4de16"
      },
      "source": [
        "for i in range(2,5): \n",
        "  print (i)"
      ],
      "execution_count": 22,
      "outputs": [
        {
          "output_type": "stream",
          "text": [
            "2\n",
            "3\n",
            "4\n"
          ],
          "name": "stdout"
        }
      ]
    },
    {
      "cell_type": "code",
      "metadata": {
        "colab": {
          "base_uri": "https://localhost:8080/"
        },
        "id": "HoovREtTLljF",
        "outputId": "34e8d59f-d1a6-48cc-f1c9-ec93429420bf"
      },
      "source": [
        "x = 0\n",
        "while x <10:\n",
        "  if x == 5:\n",
        "    print('numero quatro')\n",
        "    break\n",
        "  print (x)\n",
        "  x += 1\n"
      ],
      "execution_count": 48,
      "outputs": [
        {
          "output_type": "stream",
          "text": [
            "0\n",
            "1\n",
            "2\n",
            "3\n",
            "4\n",
            "numero quatro\n"
          ],
          "name": "stdout"
        }
      ]
    },
    {
      "cell_type": "code",
      "metadata": {
        "colab": {
          "base_uri": "https://localhost:8080/"
        },
        "id": "8qjlPvLkOHrD",
        "outputId": "5a58bb20-05c7-41b0-e75a-9ce70cc321e2"
      },
      "source": [
        "x = 0\n",
        "while True:\n",
        "  if x == 5:\n",
        "    break\n",
        "  print (x)\n",
        "  x += 1"
      ],
      "execution_count": 50,
      "outputs": [
        {
          "output_type": "stream",
          "text": [
            "0\n",
            "1\n",
            "2\n",
            "3\n",
            "4\n"
          ],
          "name": "stdout"
        }
      ]
    }
  ]
}