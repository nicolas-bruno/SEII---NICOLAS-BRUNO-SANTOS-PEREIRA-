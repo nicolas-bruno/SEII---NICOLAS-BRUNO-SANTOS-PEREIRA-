{
  "nbformat": 4,
  "nbformat_minor": 0,
  "metadata": {
    "colab": {
      "name": "prog15.ipynb",
      "provenance": [],
      "collapsed_sections": []
    },
    "kernelspec": {
      "name": "python3",
      "display_name": "Python 3"
    },
    "language_info": {
      "name": "python"
    }
  },
  "cells": [
    {
      "cell_type": "code",
      "metadata": {
        "id": "3HHVrj37X_k8"
      },
      "source": [
        "# importando arquivos csv p html"
      ],
      "execution_count": 8,
      "outputs": []
    }
  ]
}