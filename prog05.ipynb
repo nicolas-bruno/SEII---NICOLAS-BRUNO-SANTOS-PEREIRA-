{
  "nbformat": 4,
  "nbformat_minor": 0,
  "metadata": {
    "colab": {
      "name": "prog05.ipynb",
      "provenance": [],
      "collapsed_sections": []
    },
    "kernelspec": {
      "name": "python3",
      "display_name": "Python 3"
    },
    "language_info": {
      "name": "python"
    }
  },
  "cells": [
    {
      "cell_type": "code",
      "metadata": {
        "colab": {
          "base_uri": "https://localhost:8080/"
        },
        "id": "Q9oAAHVb8Kbe",
        "outputId": "c9cdd4fd-3f34-4c57-d74f-f9dc0e9a550b"
      },
      "source": [
        "estudante = {'nome':'cleiton','idade':23,'curso':'história'}\n",
        "print(estudante['nome'])\n",
        "print(estudante['curso'])\n",
        "estudante['telefone']='4002-8922'\n",
        "print(estudante)"
      ],
      "execution_count": 7,
      "outputs": [
        {
          "output_type": "stream",
          "text": [
            "cleiton\n",
            "história\n",
            "{'nome': 'cleiton', 'idade': 23, 'curso': 'história', 'telefone': '4002-8922'}\n"
          ],
          "name": "stdout"
        }
      ]
    },
    {
      "cell_type": "code",
      "metadata": {
        "colab": {
          "base_uri": "https://localhost:8080/"
        },
        "id": "wo3iVW5b98x-",
        "outputId": "ca3dda20-b2e6-4ce7-c267-342df2f5e271"
      },
      "source": [
        "estudante = {'nome':'cleiton','idade':23,'curso':'história'}\n",
        "estudante.update({'nome':'Calisto','idade':28})\n",
        "print(estudante)\n",
        "del estudante['nome']\n",
        "print(estudante)\n",
        "\n"
      ],
      "execution_count": 14,
      "outputs": [
        {
          "output_type": "stream",
          "text": [
            "{'nome': 'Calisto', 'idade': 28, 'curso': 'história'}\n",
            "{'idade': 28, 'curso': 'história'}\n"
          ],
          "name": "stdout"
        }
      ]
    },
    {
      "cell_type": "code",
      "metadata": {
        "colab": {
          "base_uri": "https://localhost:8080/"
        },
        "id": "_2cGt-7z-mtI",
        "outputId": "9200bba4-9b65-4859-c64c-793ea25f1bfc"
      },
      "source": [
        "estudante = {'nome':'cleiton','idade':23,'curso':'história'}\n",
        "estudante.update({'nome':'Calisto','idade':28})\n",
        "for x,valor in estudante.items():\n",
        "    print(x,valor)\n"
      ],
      "execution_count": 19,
      "outputs": [
        {
          "output_type": "stream",
          "text": [
            "nome Calisto\n",
            "idade 28\n",
            "curso história\n"
          ],
          "name": "stdout"
        }
      ]
    }
  ]
}